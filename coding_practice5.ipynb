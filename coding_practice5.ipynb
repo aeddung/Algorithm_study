{
 "cells": [
  {
   "cell_type": "markdown",
   "metadata": {},
   "source": [
    "## 아래 코드 블록은 이미 주어진 것"
   ]
  },
  {
   "cell_type": "code",
   "execution_count": 1,
   "metadata": {},
   "outputs": [],
   "source": [
    "class TreeNode:\n",
    "    def __init__(self, val=0, left=None, right=None):\n",
    "        self.val = val\n",
    "        self.left = left\n",
    "        self.right = right\n",
    "    def printTree(self) -> list:\n",
    "        result = list()\n",
    "        thislevel = [self]\n",
    "        while thislevel:\n",
    "            nextlevel = list()\n",
    "            none_list = 1\n",
    "            for n in thislevel:\n",
    "                if n != None:\n",
    "                    none_list = 0\n",
    "                    break\n",
    "            if none_list == 1:\n",
    "                return result\n",
    "                        \n",
    "            for n in thislevel:\n",
    "                if n != None: \n",
    "                    result.append(n.val)\n",
    "                    nextlevel.append(n.left)\n",
    "                    nextlevel.append(n.right)\n",
    "                else:\n",
    "                    result.append(None)\n",
    "                    nextlevel.append(None)\n",
    "                    nextlevel.append(None)\n",
    "                    \n",
    "            thislevel = nextlevel\n",
    "        return result\n",
    "    \n",
    "def makeTree(arr, i): \n",
    "    if i < len(arr): \n",
    "        if arr[i] != None:\n",
    "            temp = TreeNode(arr[i])  \n",
    "            root = temp  \n",
    "            root.left = makeTree(arr, 2 * i + 1)  \n",
    "            root.right = makeTree(arr, 2 * i + 2) \n",
    "        else:\n",
    "            root = None\n",
    "    else:\n",
    "        root = None\n",
    "    return root "
   ]
  },
  {
   "cell_type": "markdown",
   "metadata": {},
   "source": [
    "## Binary Tree Traversal: from bottom to top / from left to right\n",
    "### 1. input: 루트 노드 \n",
    "### 2. ouptut: 이중 리스트 형태\n",
    "### 3. None 값은 자식 노드가 없음을 의미한다"
   ]
  },
  {
   "cell_type": "markdown",
   "metadata": {},
   "source": [
    "Input:\n",
    "<pre>\n",
    "    5\n",
    "   / \\\n",
    "  4  15\n",
    "    /  \\\n",
    "   12   1  \n",
    "</pre>\n",
    "Output: [[12, 1], [4, 15], [5]]"
   ]
  },
  {
   "cell_type": "code",
   "execution_count": 2,
   "metadata": {},
   "outputs": [],
   "source": [
    "from typing import List\n",
    "\n",
    "def BTT(root: TreeNode) -> List[List[int]]:\n",
    "    if root == None:\n",
    "        return\n",
    "    \n",
    "    result = []\n",
    "    # 같은 층에 있는 노드들은 항상 셋트가 되어야 한다\n",
    "    curr_level = [root] # 현재 층\n",
    "    next_level = [] # 다음 층\n",
    "    \n",
    "    while len(curr_level):\n",
    "        level = []\n",
    "        for node in curr_level:\n",
    "            level.append(node.val)\n",
    "            if node.left != None:\n",
    "                next_level.append(node.left)\n",
    "            if node.right != None:\n",
    "                next_level.append(node.right)\n",
    "        \n",
    "        curr_level = next_level # 이제 다음 층이 현재 층이 된다\n",
    "        next_level = [] # 다음 층은 초기화\n",
    "        result.insert(0, level) # 먼저 들어온 리스트(루트에서 가까운...)는 점점 밀린다\n",
    "  \n",
    "    return result"
   ]
  },
  {
   "cell_type": "code",
   "execution_count": 3,
   "metadata": {},
   "outputs": [
    {
     "name": "stdout",
     "output_type": "stream",
     "text": [
      "[[12, 1], [4, 15], [5]]\n"
     ]
    }
   ],
   "source": [
    "root = [5, 4, 15, None, None, 12, 1]\n",
    "tree = makeTree(root,0)\n",
    "print(BTT(tree))"
   ]
  },
  {
   "cell_type": "markdown",
   "metadata": {},
   "source": [
    "## 정렬된 리스트를 Binary Search Tree로 변환\n",
    "### 1. input: Ascending order로 정렬된 리스트 \n",
    "### 2. output: height balanced Binary Search Tree <- 모든 노드에 대해 각 subtree depth가 1을 초과해서 차이나지 않는 tree"
   ]
  },
  {
   "cell_type": "markdown",
   "metadata": {},
   "source": [
    "Input: [0, 1, 6, 15, 24, 35, 66, 84] <br>\n",
    "Output: [24, 6, 66, 1, 15, 35, 84, 0, None, None, None, None, None, None, None] <br>\n",
    "<pre>\n",
    "       24\n",
    "     /    \\\n",
    "    6      66\n",
    "  /  \\    /   \\\n",
    " 1   15  35   84\n",
    "/\n",
    "0\n",
    " </pre>"
   ]
  },
  {
   "cell_type": "code",
   "execution_count": 6,
   "metadata": {},
   "outputs": [],
   "source": [
    "from typing import List\n",
    "def convert_BST(nums: List[int]) -> TreeNode:\n",
    "    if not nums:\n",
    "        return \n",
    "    \n",
    "    # because of height balanced BST -> 중간 원소가 root 노드가 된다\n",
    "    mid = len(nums) // 2 \n",
    "    root = TreeNode(nums[mid])\n",
    "    # 재귀 반복 구조\n",
    "    root.left = convert_BST(nums[:mid]) # 중간 왼소 왼쪽에 위치한 원소들\n",
    "    root.right = convert_BST(nums[mid+1:]) # 중간 왼소 오른쪽에 위치한 원소들\n",
    "     \n",
    "    return root"
   ]
  },
  {
   "cell_type": "code",
   "execution_count": 7,
   "metadata": {},
   "outputs": [
    {
     "data": {
      "text/plain": [
       "[24, 6, 66, 1, 15, 35, 84, 0, None, None, None, None, None, None, None]"
      ]
     },
     "execution_count": 7,
     "metadata": {},
     "output_type": "execute_result"
    }
   ],
   "source": [
    "nums = [0, 1, 6, 15, 24, 35, 66, 84]\n",
    "convert_BST(nums).printTree()"
   ]
  },
  {
   "cell_type": "code",
   "execution_count": null,
   "metadata": {},
   "outputs": [],
   "source": []
  }
 ],
 "metadata": {
  "kernelspec": {
   "display_name": "Python 3",
   "language": "python",
   "name": "python3"
  },
  "language_info": {
   "codemirror_mode": {
    "name": "ipython",
    "version": 3
   },
   "file_extension": ".py",
   "mimetype": "text/x-python",
   "name": "python",
   "nbconvert_exporter": "python",
   "pygments_lexer": "ipython3",
   "version": "3.7.9"
  }
 },
 "nbformat": 4,
 "nbformat_minor": 4
}
