{
 "cells": [
  {
   "cell_type": "code",
   "execution_count": 1,
   "metadata": {},
   "outputs": [],
   "source": [
    "import timeit\n",
    "def function_time(function, inputs):\n",
    "    start = timeit.default_timer()\n",
    "    out = function(inputs)\n",
    "    return out, (timeit.default_timer()-start)*1000"
   ]
  },
  {
   "cell_type": "markdown",
   "metadata": {},
   "source": [
    "## 1. 가장 많이 등장한 단어를 출력해라\n",
    "### (단어는 대소문자를 구별하지 않는다)\n",
    "### (문장은 마침표로 끝나며, 이외에는 다른 기호는 없다)\n",
    "### (가장 많이 등장한 단어가 여러 개일 경우, 가장 먼저 등장한 단어를 선택한다)"
   ]
  },
  {
   "cell_type": "code",
   "execution_count": 2,
   "metadata": {},
   "outputs": [],
   "source": [
    "def findMost(s:str) -> str:\n",
    "    s = s.lower()\n",
    "    s = s.split('.')[0].split(' ') # 마침표 '.' 없이 단어들로 이루어진 리스트 리턴\n",
    "    \n",
    "    string_dict = dict()\n",
    "    \n",
    "    # O(N)\n",
    "    # 단어별로 몇 번 등장했는지 딕셔너리 저장\n",
    "    for i in range(len(s)):\n",
    "        if s[i] not in string_dict:\n",
    "            string_dict[s[i]] = 1\n",
    "        else:\n",
    "            string_dict[s[i]] = string_dict[s[i]] + 1\n",
    "            \n",
    "    # 딕셔너리를 다시 리스트로\n",
    "    item_list = list(string_dict.items())\n",
    "    maximum = 0 # 가장 많이 등장한 단어의 빈도수 =０으로 초기화\n",
    "    \n",
    "    # O(N)\n",
    "    # item_list 내부 튜플은 {'word', num} 형태\n",
    "    for i in range(len(item_list)):\n",
    "        if item_list[i][1] > maximum:\n",
    "            maximum = item_list[i][1]\n",
    "            item_max = item_list[i]\n",
    "            \n",
    "        elif item_list[i][1] == maximum:\n",
    "            item_max = item_list[i-1]\n",
    "        \n",
    "    return item_max[0]"
   ]
  },
  {
   "cell_type": "code",
   "execution_count": 3,
   "metadata": {},
   "outputs": [
    {
     "name": "stdout",
     "output_type": "stream",
     "text": [
      "Output: \"eats\", Time: 0.021800ms\n"
     ]
    }
   ],
   "source": [
    "out, ms = function_time(findMost, \"I eat sandwiches, SHE eats hamburger and he EATS noodle.\")\n",
    "print(\"Output: \\\"{0}\\\", Time: {1:0.6f}ms\".format(out, ms))"
   ]
  },
  {
   "cell_type": "markdown",
   "metadata": {},
   "source": [
    "## 2. 가장 먼저 등장한 유일한 알파벳에 해당하는 인덱스를 출력해라\n",
    "### (유일한 알파벳이 없는 경우 -1을 리턴한다)"
   ]
  },
  {
   "cell_type": "code",
   "execution_count": 4,
   "metadata": {},
   "outputs": [],
   "source": [
    "def findUnique(s: str) -> int:\n",
    "    dict_s = dict()\n",
    "    \n",
    "    # 딕셔너리 채워넣기\n",
    "    for char in s:\n",
    "        if char in dict_s:\n",
    "            dict_s[char] = dict_s[char] + 1\n",
    "        else:\n",
    "            dict_s[char] = 1\n",
    "\n",
    "    dict_list = list(dict_s.items())\n",
    "    ans = []\n",
    "    \n",
    "    for i in range(len(dict_list)):\n",
    "        if dict_list[i][1] == 1:\n",
    "            ans.append(s.index(dict_list[i][0])) # 인덱스 append\n",
    "        \n",
    "    if len(ans) == 0: # 유일한 알파벳이 없는 경우\n",
    "        return -1\n",
    "    else:\n",
    "        return ans[0]"
   ]
  },
  {
   "cell_type": "code",
   "execution_count": 5,
   "metadata": {},
   "outputs": [
    {
     "name": "stdout",
     "output_type": "stream",
     "text": [
      "Output: 1, Time: 0.037000ms\n"
     ]
    }
   ],
   "source": [
    "out, ms = function_time(findUnique,\"artificialintelligence\")\n",
    "print(\"Output: {0}, Time: {1:0.6f}ms\".format(out, ms))"
   ]
  },
  {
   "cell_type": "code",
   "execution_count": null,
   "metadata": {},
   "outputs": [],
   "source": []
  }
 ],
 "metadata": {
  "kernelspec": {
   "display_name": "Python 3",
   "language": "python",
   "name": "python3"
  },
  "language_info": {
   "codemirror_mode": {
    "name": "ipython",
    "version": 3
   },
   "file_extension": ".py",
   "mimetype": "text/x-python",
   "name": "python",
   "nbconvert_exporter": "python",
   "pygments_lexer": "ipython3",
   "version": "3.7.9"
  }
 },
 "nbformat": 4,
 "nbformat_minor": 4
}
