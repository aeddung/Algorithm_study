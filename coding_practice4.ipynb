{
 "cells": [
  {
   "cell_type": "markdown",
   "metadata": {},
   "source": [
    "## 아래 3개 박스 코드는 이미 주어져 있는 것으로 수정할 필요가 없다."
   ]
  },
  {
   "cell_type": "code",
   "execution_count": 4,
   "metadata": {},
   "outputs": [],
   "source": [
    "class TreeNode:\n",
    "    def __init__(self, val=0, left=None, right=None):\n",
    "        self.val = val\n",
    "        self.left = left\n",
    "        self.right = right\n",
    "    def printTree(self) -> list:\n",
    "        result = list()\n",
    "        thislevel = [self]\n",
    "        while thislevel:\n",
    "            nextlevel = list()\n",
    "            for n in thislevel:\n",
    "                if n.val != None: \n",
    "                    result.append(n.val)\n",
    "                if n.left: \n",
    "                    nextlevel.append(n.left)\n",
    "                if n.right: \n",
    "                    nextlevel.append(n.right)\n",
    "            thislevel = nextlevel\n",
    "        return result"
   ]
  },
  {
   "cell_type": "code",
   "execution_count": 5,
   "metadata": {},
   "outputs": [],
   "source": [
    "from collections import deque\n",
    "\n",
    "def create_linked_bst(arr: list) -> TreeNode:\n",
    "    if len(arr) < 1: \n",
    "        return None\n",
    "    n = iter(arr)\n",
    "    tree = TreeNode(next(n))\n",
    "    fringe = deque([tree])\n",
    "    while True:\n",
    "        head = fringe.popleft()\n",
    "        try:\n",
    "            l = next(n)\n",
    "            if l != None:\n",
    "                head.left = TreeNode(l) \n",
    "            else:\n",
    "                None\n",
    "            fringe.append(head.left)\n",
    "            \n",
    "            r = next(n)\n",
    "            if r != None:\n",
    "                head.right = TreeNode(r)  \n",
    "            else:\n",
    "                None\n",
    "            fringe.append(head.right)\n",
    "            \n",
    "        except StopIteration:\n",
    "            break\n",
    "            \n",
    "    return tree\n",
    "def sortedArray2BST(nums):\n",
    "    def convert(left, right):\n",
    "        if left > right:\n",
    "            return None\n",
    "        mid = (left + right) // 2\n",
    "        node = TreeNode(nums[mid])\n",
    "        node.left = convert(left, mid - 1)\n",
    "        node.right = convert(mid + 1, right)\n",
    "        return node\n",
    "    return convert(0, len(nums) - 1)    "
   ]
  },
  {
   "cell_type": "code",
   "execution_count": 6,
   "metadata": {},
   "outputs": [],
   "source": [
    "def printP1(arr: list, low:int, high:int):\n",
    "    root = create_linked_bst(arr)\n",
    "    ans = P1(root, low, high)\n",
    "    print(ans)\n",
    "    return ans\n",
    "    \n",
    "def printP2(arr: list, key:int):\n",
    "    root = create_linked_bst(arr)\n",
    "    root = P2(root, key)\n",
    "    ans = root.printTree()\n",
    "    print(ans)\n",
    "    return ans"
   ]
  },
  {
   "cell_type": "markdown",
   "metadata": {},
   "source": [
    "## 1. 일정 범위 안에 속하는 트리 노드들의 value 값들을 합친 결과를 리턴해라\n",
    "### (일정 범위는 range(low, high + 1) 형식이다)\n",
    "### (위 코드 create_linked_bst 함수에서 None을 받으면 노드가 없다는 것을 의미한다)"
   ]
  },
  {
   "cell_type": "code",
   "execution_count": 7,
   "metadata": {},
   "outputs": [],
   "source": [
    "def P1(root: TreeNode, low: int, high: int) -> int:\n",
    "    # 재귀 구조 사용\n",
    "    result = 0 # result는 재귀 구조를 돌릴 때마다 초기화된다\n",
    "    if not root:\n",
    "        return 0\n",
    "    \n",
    "    else:\n",
    "        # root가 low와 high 사이에 있는 케이스\n",
    "        if low <= root.val <= high:\n",
    "            result += root.val + P1(root.left, low, high) + P1(root.right, low, high)\n",
    "\n",
    "        # root가 low보다 작은 경우 오른쪽 subtree만 보면 됨\n",
    "        elif root.val < low:\n",
    "            result += P1(root.right, low, high)\n",
    "        \n",
    "        # root가 high보다 큰 경우 왼쪽 subtree만 보면 됨\n",
    "        else: \n",
    "            result += P1(root.left, low, high)\n",
    "            \n",
    "    return result"
   ]
  },
  {
   "cell_type": "code",
   "execution_count": 8,
   "metadata": {},
   "outputs": [
    {
     "name": "stdout",
     "output_type": "stream",
     "text": [
      "32\n"
     ]
    },
    {
     "data": {
      "text/plain": [
       "32"
      ]
     },
     "execution_count": 8,
     "metadata": {},
     "output_type": "execute_result"
    }
   ],
   "source": [
    "printP1([10, 5, 15, 3, 7, None, 18], 7, 15)"
   ]
  },
  {
   "cell_type": "markdown",
   "metadata": {},
   "source": [
    "## 2. argument로 주어진 노드를 삭제한 후 업데이트된 트리를 리턴해라\n",
    "#### (주어진 노드가 트리에 없을 경우, 삭제할 것이 없으니 원본 트리를 그대로 리턴한다)"
   ]
  },
  {
   "cell_type": "code",
   "execution_count": 9,
   "metadata": {},
   "outputs": [],
   "source": [
    "def findmin(root: TreeNode) -> int:\n",
    "    if not root.left:\n",
    "        return root.val\n",
    "    else: # 왼쪽에 자식 노드가 남아 있다면 계속 탐색\n",
    "        return findmin(root.left)\n",
    "\n",
    "def P2(root: TreeNode, key: int) -> TreeNode:\n",
    "    # key가 트리에 없는 경우, 원본 트리를 그대로 리턴\n",
    "    if not root: \n",
    "        return root\n",
    "    \n",
    "    else:\n",
    "        if key < root.val:\n",
    "            root.left = P2(root.left, key)\n",
    "        elif key > root.val:\n",
    "            root.right = P2(root.right, key)\n",
    "        else: #key == root.val\n",
    "            # 1. 자식 노드가 없는 케이스\n",
    "            if root.left == None and root.right == None:\n",
    "                return None\n",
    "\n",
    "            # 2. 자식 노드가 1개인 케이스\n",
    "            elif root.left == None:\n",
    "                return root.right\n",
    "            elif root.right == None:\n",
    "                return root.left\n",
    "\n",
    "            # 3. 자식 노드가 2개인 케이스\n",
    "            else:\n",
    "                rightmin = findmin(root.right)\n",
    "                root.right = P2(root.right, rightmin) # 해당 최솟값 노드 삭제 (leaf node 단순 삭제)\n",
    "                root.val = rightmin\n",
    "            \n",
    "    return root"
   ]
  },
  {
   "cell_type": "code",
   "execution_count": 10,
   "metadata": {},
   "outputs": [
    {
     "name": "stdout",
     "output_type": "stream",
     "text": [
      "[5, 4, 6, 2, 7]\n"
     ]
    },
    {
     "data": {
      "text/plain": [
       "[5, 4, 6, 2, 7]"
      ]
     },
     "execution_count": 10,
     "metadata": {},
     "output_type": "execute_result"
    }
   ],
   "source": [
    "printP2([5, 3, 6, 2, 4, None, 7], 3)"
   ]
  },
  {
   "cell_type": "code",
   "execution_count": null,
   "metadata": {},
   "outputs": [],
   "source": []
  }
 ],
 "metadata": {
  "kernelspec": {
   "display_name": "Python 3",
   "language": "python",
   "name": "python3"
  },
  "language_info": {
   "codemirror_mode": {
    "name": "ipython",
    "version": 3
   },
   "file_extension": ".py",
   "mimetype": "text/x-python",
   "name": "python",
   "nbconvert_exporter": "python",
   "pygments_lexer": "ipython3",
   "version": "3.7.9"
  }
 },
 "nbformat": 4,
 "nbformat_minor": 4
}
