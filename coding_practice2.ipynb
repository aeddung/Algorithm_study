{
 "cells": [
  {
   "cell_type": "markdown",
   "metadata": {},
   "source": [
    "# 1.  괄호 열고 닫기\n",
    "### 제대로 된 순서로 괄호가 닫혔는지 확인해서 True or False를 리턴해라"
   ]
  },
  {
   "cell_type": "code",
   "execution_count": 1,
   "metadata": {},
   "outputs": [],
   "source": [
    "def bracket(s: str) -> bool:\n",
    "    mapping = {']': '[', ')': '(', '}': '{'}\n",
    "    \n",
    "    stack = []\n",
    "    \n",
    "    for char in s:\n",
    "        # 매핑 key값에 해당할 때\n",
    "        if char in mapping:\n",
    "            # 가장 마지막에 입력된 기호가 가장 먼저 닫혀야 한다는 아이디어\n",
    "            top_element = stack.pop() if stack else '#' # 입력한 문자열이 모두 '), ], }'인 경우 stack은 null 값 -> 방지하기 위해 dummy 문자열 삽입\n",
    "            \n",
    "            if mapping[char] != top_element:\n",
    "                return False\n",
    "        \n",
    "        else: # 매핑 value 값에 해당할 때 \n",
    "            stack.append(char)\n",
    "            \n",
    "    # stack.pop()이 계속된다면 괄호 쌍이 잘 맞는다는 것 \n",
    "    return not stack"
   ]
  },
  {
   "cell_type": "code",
   "execution_count": 2,
   "metadata": {},
   "outputs": [
    {
     "name": "stdout",
     "output_type": "stream",
     "text": [
      "True\n",
      "False\n",
      "True\n"
     ]
    }
   ],
   "source": [
    "print(bracket('(){}[]'))\n",
    "print(bracket('([)]'))\n",
    "print(bracket('({[]})'))"
   ]
  },
  {
   "cell_type": "markdown",
   "metadata": {},
   "source": [
    "# 2. Sorted Merged Linked list\n",
    "### 2개의 Linked list를 받아서 합치고 정렬한 버전을 리턴해라\n",
    "### (입력 Linked list는 이미 정렬되어 있다고 가정한다)"
   ]
  },
  {
   "cell_type": "code",
   "execution_count": 4,
   "metadata": {},
   "outputs": [],
   "source": [
    "class ListNode():\n",
    "    def __init__(self, val=0, next=None):\n",
    "        self.val = val\n",
    "        self.next = next"
   ]
  },
  {
   "cell_type": "code",
   "execution_count": 16,
   "metadata": {},
   "outputs": [],
   "source": [
    "def merged_LL(l1: ListNode, l2: ListNode) -> ListNode:\n",
    "    \n",
    "    if l1 == None and l2 == None:\n",
    "        return None\n",
    "    elif not l1: # l1이 빈 리스트일 경우\n",
    "        return l2\n",
    "    elif not l2: #l2가 빈 리스트일 경우\n",
    "        return l1\n",
    "    \n",
    "    # 첫 번째 linked list 노드 비교\n",
    "    n1 = l1.val\n",
    "    node1 = l1\n",
    "    n2 = l2.val\n",
    "    node2 = l2\n",
    "    \n",
    "    if n1 < n2:\n",
    "        start = node1\n",
    "        node1 = node1.next\n",
    "    else:\n",
    "        start = node2\n",
    "        node2 = node2.next\n",
    "    \n",
    "    # 최종적으로 start를 리턴할 것 / node는 update용 \n",
    "    node = start\n",
    "    \n",
    "    while not (node1 == None or node2 == None):\n",
    "        n1 = node1.val\n",
    "        n2 = node2.val\n",
    "        \n",
    "        if n1 < n2:\n",
    "            node.next = node1 # 현재 노드의 다음을 정함\n",
    "            node = node1 # 현재 노드 포인터를 다음 노드로 옮김\n",
    "            node1 = node1.next # 이후 대소 비교를 위해 다음 노드로 옮김\n",
    "        \n",
    "        else:\n",
    "            node.next = node2\n",
    "            node = node2\n",
    "            node2 = node2.next\n",
    "            \n",
    "    while not node1 == None: # node1가 남은 경우\n",
    "        node.next = node1\n",
    "        node = node1\n",
    "        node1 = node1.next\n",
    "    while not node2 == None: # node2가 남은 경우\n",
    "        node.next = node2\n",
    "        node = node2\n",
    "        node2 = node2.next\n",
    "    \n",
    "    return start"
   ]
  },
  {
   "cell_type": "code",
   "execution_count": 11,
   "metadata": {},
   "outputs": [],
   "source": [
    "def create_linked_list(l: list) -> ListNode:\n",
    "    if len(l) == 0:\n",
    "        return None\n",
    "    \n",
    "    start = ListNode(l[0])\n",
    "    node = start\n",
    "    \n",
    "    for i in range(1, len(l)):\n",
    "        node_new = ListNode(l[i])\n",
    "        node.next = node_new\n",
    "        node = node_new\n",
    "    \n",
    "    return start"
   ]
  },
  {
   "cell_type": "code",
   "execution_count": 12,
   "metadata": {},
   "outputs": [],
   "source": [
    "def print_linked_list(n: ListNode, l: list) -> None:\n",
    "    if n is not None:\n",
    "        l.append(n.val)\n",
    "        print_linked_list(n.next, l)\n",
    "    else:\n",
    "        print(l)"
   ]
  },
  {
   "cell_type": "code",
   "execution_count": 18,
   "metadata": {},
   "outputs": [
    {
     "name": "stdout",
     "output_type": "stream",
     "text": [
      "[1, 2, 3, 4, 5, 6]\n"
     ]
    }
   ],
   "source": [
    "l1 = create_linked_list([1, 3, 5])\n",
    "l2 = create_linked_list([2, 4, 6])\n",
    "merged = merged_LL(l1, l2)\n",
    "print_linked_list(merged, [])"
   ]
  },
  {
   "cell_type": "markdown",
   "metadata": {},
   "source": [
    "# 3. Reversed Linked List\n",
    "### Linked list의 노드를 역정렬하고, 그것을 다시 리턴해라\n",
    "### (크기 순서대로 역정렬하는 것이 아니라 원래 Lined list를 그대로 뒤집으면 된다)"
   ]
  },
  {
   "cell_type": "code",
   "execution_count": 22,
   "metadata": {},
   "outputs": [],
   "source": [
    "def reverse_LL(l: ListNode) -> ListNode:\n",
    "    if l is None:\n",
    "        return None\n",
    "    \n",
    "    node = l.next\n",
    "    prevList = [l] \n",
    "    \n",
    "    while node is not None: # next node가 없으면 while loop 종료\n",
    "        prevList.append(node)\n",
    "        node = node.next\n",
    "        \n",
    "    # 마지막 리스트 노드에다가 그 전의 노드들을 next로 붙여나간다는 아이디어 \n",
    "    # prevList = \n",
    "    # [(1) -> (3) -> (5) -> (2),\n",
    "    #         (3) -> (5) -> (2),\n",
    "    #                (5) -> (2),\n",
    "    #                       (2)]\n",
    "    for i in range(len(prevList)-1, 0, -1): # prevList의 마지막 원소 리스트 노드에서 작업 진행 \n",
    "        prevList[i].next = prevList[i-1]\n",
    "        \n",
    "    # (1) -> (3) -> (5) -> (2)에서 (1)만 빼고 제거\n",
    "    prevList[0].next = None\n",
    "    \n",
    "    return prevList[len(prevList)-1] # prevList의 마지막 원소 리스트 리턴"
   ]
  },
  {
   "cell_type": "markdown",
   "metadata": {},
   "source": [
    "![prev_list1](./linked_list1.png)"
   ]
  },
  {
   "cell_type": "markdown",
   "metadata": {},
   "source": [
    "![prev_list2](./linked_list2.png)"
   ]
  },
  {
   "cell_type": "code",
   "execution_count": 23,
   "metadata": {},
   "outputs": [
    {
     "name": "stdout",
     "output_type": "stream",
     "text": [
      "[5, 3, 1]\n"
     ]
    }
   ],
   "source": [
    "l1 = create_linked_list([1, 3, 5])\n",
    "print_linked_list(reverse_LL(l1),[])"
   ]
  },
  {
   "cell_type": "markdown",
   "metadata": {},
   "source": [
    "# 4. 중복 숫자 찾기\n",
    "### 리스트에서 중복된 원소를 찾아 리턴해라\n",
    "### (1이상 n 이하의 n+1개의 원소를 가진 리스트를 입력으로 한다)\n",
    "### (중복은 단 1번만 일어난다)"
   ]
  },
  {
   "cell_type": "code",
   "execution_count": 42,
   "metadata": {},
   "outputs": [],
   "source": [
    "from typing import List\n",
    "def find_overlap(l: List[int]) -> None:\n",
    "    \n",
    "    # 1. sort() 이용하기\n",
    "    l.sort()\n",
    "    for i in range(len(l)-1):\n",
    "        if l[i] == l[i+1]:\n",
    "            return l[i]\n",
    "        \n",
    "    # 2. set() 이용하기\n",
    "    \"\"\"\n",
    "    set_l = set()\n",
    "    for i in range(len(l)):\n",
    "        if l[i] in set_l:\n",
    "            return l[i]\n",
    "        else:\n",
    "            set_l.append(l[i])\n",
    "    \"\"\""
   ]
  },
  {
   "cell_type": "code",
   "execution_count": 44,
   "metadata": {},
   "outputs": [
    {
     "data": {
      "text/plain": [
       "1"
      ]
     },
     "execution_count": 44,
     "metadata": {},
     "output_type": "execute_result"
    }
   ],
   "source": [
    "nums = [1, 1, 3, 2, 4, 5]\n",
    "find_overlap(nums)"
   ]
  },
  {
   "cell_type": "code",
   "execution_count": null,
   "metadata": {},
   "outputs": [],
   "source": []
  }
 ],
 "metadata": {
  "kernelspec": {
   "display_name": "Python 3",
   "language": "python",
   "name": "python3"
  },
  "language_info": {
   "codemirror_mode": {
    "name": "ipython",
    "version": 3
   },
   "file_extension": ".py",
   "mimetype": "text/x-python",
   "name": "python",
   "nbconvert_exporter": "python",
   "pygments_lexer": "ipython3",
   "version": "3.7.9"
  }
 },
 "nbformat": 4,
 "nbformat_minor": 4
}
