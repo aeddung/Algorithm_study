{
 "cells": [
  {
   "cell_type": "markdown",
   "metadata": {},
   "source": [
    "# 수강 시간표 짜기\n",
    "### 총 들어야 할 과목 수는 n으로 제공된다\n",
    "### 시간표는 리스트 of 리스트 형태로 주어지며, [0, 1]의 경우 0번 강좌를 듣기 위해 1번 강좌를 선이수 해야함을 뜻한다\n",
    "### 출력값은 주어진 시간표에 따라 수업을 수강할 수 있는지, 없는지 이다."
   ]
  },
  {
   "cell_type": "code",
   "execution_count": 1,
   "metadata": {},
   "outputs": [],
   "source": [
    "from typing import List\n",
    "\n",
    "def timetable(n: int, pres: List[List[int]]) -> bool:\n",
    "    # directed graph(acylcic) 이용\n",
    "    graph = [[] for _ in range(n)]\n",
    "    \n",
    "    # 방문 이력 체크\n",
    "    visit = [0 for _ in range(n)]\n",
    "    # 선이수과목 체크\n",
    "    stack = [0 for _ in range(n)]\n",
    "    \n",
    "    # graph 만들기\n",
    "    # [0, 1] -> 1번 강좌를 들어야 0번 강좌를 들을 수 있다는 의미\n",
    "    for p in pres:\n",
    "        graph[p[1]].append(p[0])\n",
    "        \n",
    "    # 각 노드를 방문하면서 방문 이력이 있는지, 선이수과목에 포함되었는지 체크\n",
    "    for i in range(n):\n",
    "        if visit[i] == 0:\n",
    "            if isCycle(graph, visit, stack, i):\n",
    "                return False\n",
    "            \n",
    "    return True\n",
    "\n",
    "def isCycle(graph: List, visit: List, stack: List, node: int) -> bool:\n",
    "    # 방문했으니 1로 변경\n",
    "    visit[node] = 1\n",
    "    # 선이수과목에 \"일단\" 포함시킴\n",
    "    stack[node] = 1\n",
    "    \n",
    "    # 이웃 노드 탐색\n",
    "    for i in graph[node]:\n",
    "        if visit[i] == 0:\n",
    "            if isCycle(graph, visit, stack, i):\n",
    "                return True\n",
    "            \n",
    "        else:\n",
    "            if stack[i] == 1:\n",
    "                return True\n",
    "     \n",
    "    # DFS 특성을 이용했기 때문에 한 층에서 생긴 선이수과목 리스트는 갱신해줘야 함 \n",
    "    # if graph=[[1, 2], [2, 3]] then 2번 강좌를 듣기 위해선 0번, 1번 강좌 모두 들어야 함 \n",
    "    stack[node] = 0\n",
    "    return False"
   ]
  },
  {
   "cell_type": "code",
   "execution_count": 2,
   "metadata": {},
   "outputs": [
    {
     "data": {
      "text/plain": [
       "True"
      ]
     },
     "execution_count": 2,
     "metadata": {},
     "output_type": "execute_result"
    }
   ],
   "source": [
    "timetable(2, [[1,0]])\n",
    "# Answer: True"
   ]
  },
  {
   "cell_type": "code",
   "execution_count": 3,
   "metadata": {},
   "outputs": [
    {
     "data": {
      "text/plain": [
       "False"
      ]
     },
     "execution_count": 3,
     "metadata": {},
     "output_type": "execute_result"
    }
   ],
   "source": [
    "timetable(2, [[1,0],[0,1]]) # 0번 강좌를 듣기 위해 1번 강좌를 선이수하고, 1번 강좌를 듣기 위해 0번 강좌를 선이수하는 것은 불가능\n",
    "# Answer: False"
   ]
  },
  {
   "cell_type": "markdown",
   "metadata": {},
   "source": [
    "# 섬 최대 넓이 구하기\n",
    "### 1: 섬 / 0: 바다 \n",
    "### 섬을 찾고 섬에서 동서남북 기준으로 또 다른 섬이 있는지 확인하여 1 최대 갯수를 찾으면 된다(대각선 방향은 고려하지 않는다)"
   ]
  },
  {
   "cell_type": "code",
   "execution_count": 4,
   "metadata": {},
   "outputs": [],
   "source": [
    "from typing import List\n",
    "\n",
    "def wideMax(grid: List[List[int]]) -> int:\n",
    "    ans = 0 # 넓이 초기화\n",
    "    row = len(grid)\n",
    "    col = len(grid[0])\n",
    "    \n",
    "    # 방문 기록 \n",
    "    visit = [[0 for _ in range(col)] for _ in range(row)]\n",
    "    \n",
    "    for i in range(row):\n",
    "        for j in range(col):\n",
    "            # 섬을 발견하고 방문하지 않았다면 dfs 실행\n",
    "            if grid[i][j] == 1 and visit[i][j] == 0:\n",
    "                ans = max(ans, dfs(grid, visit, row, col, i, j))\n",
    "            \n",
    "    return ans\n",
    "            \n",
    "def dfs(grid: List, visit: List, row: int, col: int, i: int, j: int) -> int:\n",
    "    # 그리드 범위 내에 있고, 방문을 하지 않았고, 섬일 경우 \n",
    "    if 0 <= i < row and 0 <= j < col and visit[i][j] == 0 and grid[i][j] == 1:\n",
    "        visit[i][j] = 1\n",
    "        \n",
    "        # 재귀 반복 실행\n",
    "        return 1 + dfs(grid, visit, row, col, i, j+1)\\\n",
    "                 + dfs(grid, visit, row, col, i, j-1)\\\n",
    "                 + dfs(grid, visit, row, col, i+1, j)\\\n",
    "                 + dfs(grid, visit, row, col, i-1, j)\n",
    "    else:\n",
    "        return 0"
   ]
  },
  {
   "cell_type": "code",
   "execution_count": 5,
   "metadata": {},
   "outputs": [
    {
     "data": {
      "text/plain": [
       "6"
      ]
     },
     "execution_count": 5,
     "metadata": {},
     "output_type": "execute_result"
    }
   ],
   "source": [
    "wideMax([[0,0,1,0,0,0,0,1,0,0,0,0,0],\n",
    " [0,0,0,0,0,0,0,1,1,1,0,0,0],\n",
    " [0,1,1,0,1,0,0,0,0,0,0,0,0],\n",
    " [0,1,0,0,1,1,0,0,1,0,1,0,0],\n",
    " [0,1,0,0,1,1,0,0,1,1,1,0,0],\n",
    " [0,0,0,0,0,0,0,0,0,0,1,0,0],\n",
    " [0,0,0,0,0,0,0,1,1,1,0,0,0],\n",
    " [0,0,0,0,0,0,0,1,1,0,0,0,1]])\n",
    "# Answer: 6"
   ]
  },
  {
   "cell_type": "code",
   "execution_count": 6,
   "metadata": {},
   "outputs": [
    {
     "data": {
      "text/plain": [
       "0"
      ]
     },
     "execution_count": 6,
     "metadata": {},
     "output_type": "execute_result"
    }
   ],
   "source": [
    "wideMax([[0,0,0,0,0,0,0,0]])\n",
    "# Answer: 0"
   ]
  },
  {
   "cell_type": "code",
   "execution_count": null,
   "metadata": {},
   "outputs": [],
   "source": []
  }
 ],
 "metadata": {
  "kernelspec": {
   "display_name": "Python 3",
   "language": "python",
   "name": "python3"
  },
  "language_info": {
   "codemirror_mode": {
    "name": "ipython",
    "version": 3
   },
   "file_extension": ".py",
   "mimetype": "text/x-python",
   "name": "python",
   "nbconvert_exporter": "python",
   "pygments_lexer": "ipython3",
   "version": "3.7.9"
  }
 },
 "nbformat": 4,
 "nbformat_minor": 4
}
